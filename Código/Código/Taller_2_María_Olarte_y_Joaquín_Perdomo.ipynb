{
  "cells": [
    {
      "cell_type": "markdown",
      "metadata": {
        "id": "kzZN5mJ24gZj"
      },
      "source": [
        "Ejercicio 1: Tiempo de Espera en una Parada de Autobús\n",
        "\n",
        "En una parada de autobús, el tiempo de espera para el próximo autobús sigue una distribución exponencial con una tasa de llegada promedio de 4 autobuses por hora.\n",
        "\n",
        "a) ¿Cuál es la probabilidad de que un pasajero espere menos de 10 minutos por el próximo autobús? **La probabilidad es de 48,66%**\n",
        "\n",
        "b) Simula en Python 1000 tiempos de espera y representa el histograma de la distribución. **Hay más probabilidad que la espera para un autobus sea más corta por eso los datos se concentran al inicio, donde llegarían más pronto**"
      ]
    },
    {
      "cell_type": "code",
      "execution_count": null,
      "metadata": {
        "colab": {
          "base_uri": "https://localhost:8080/"
        },
        "id": "sOc_I-BB4prF",
        "outputId": "470ea4b6-52d4-44e9-b572-c24302bf7428"
      },
      "outputs": [
        {
          "name": "stdout",
          "output_type": "stream",
          "text": [
            "Probabilidad de esperar menos de 10 minutos: 0.4866\n"
          ]
        }
      ],
      "source": [
        "import numpy as np\n",
        "import matplotlib.pyplot as plt\n",
        "\n",
        "lambda_ = 4 #Frecuencia de autobuses por hora\n",
        "tiempo_minutos = 10 #Cálculo de probailidad\n",
        "\n",
        "#a)\n",
        "tiempo_horas = tiempo_minutos / 60  #Convertir a minutos\n",
        "probabilidad = 1 - np.exp(-lambda_ * tiempo_horas)\n",
        "print(f\"Probabilidad de esperar menos de 10 minutos: {probabilidad:.4f}\")\n"
      ]
    },
    {
      "cell_type": "code",
      "execution_count": null,
      "metadata": {
        "colab": {
          "base_uri": "https://localhost:8080/",
          "height": 564
        },
        "id": "-xktwlMx7xsd",
        "outputId": "e321d2d1-f228-4160-b39f-e035c076ac80"
      },
      "outputs": [
        {
          "data": {
            "image/png": "[encoded data removed]",
            "text/plain": [
              "<Figure size 800x600 with 1 Axes>"
            ]
          },
          "metadata": {},
          "output_type": "display_data"
        }
      ],
      "source": [
        "#b)\n",
        "n=1000\n",
        "tiempos_espera = np.random.exponential(1 / lambda_, n)\n",
        "\n",
        "plt.figure(figsize=(8, 6))\n",
        "plt.hist(tiempos_espera * 60, bins=30, edgecolor='black', alpha=0.7)  # Multiplicamos por 60 para convertir a minutos\n",
        "plt.title('Histograma de los tiempos de espera (en minutos)')\n",
        "plt.xlabel('Tiempo de espera (minutos)')\n",
        "plt.ylabel('Frecuencia')\n",
        "plt.grid(True)\n",
        "plt.show()"
      ]
    },
    {
      "cell_type": "markdown",
      "metadata": {
        "id": "I0WtCkFa9k3m"
      },
      "source": [
        "Ejercicio 2: Puntuaciones en un Examen\n",
        "\n",
        "Las puntuaciones de un examen siguen una distribución normal con una media de 70 y una desviación estándar de 8.\n",
        "\n",
        "a) ¿Cuál es la probabilidad de que un estudiante obtenga una puntuación entre 65 y 85? **El 70.36% de los estudiantes tienen puntuaciones en este rango.**\n",
        "\n",
        "b) Si se requiere estar en el 10% superior para aprobar con honores, ¿cuál es la puntuación mínima necesaria? **Cualquier estudiante que saque más de 80.25 estará en el 10% superior de la clase.**\n",
        "\n",
        "c) Genera en Python una muestra aleatoria de 500 puntuaciones y representa su distribución mediante un histograma. **Se visualizan unos datos centrados en 70, con la mayoría de los estudiantes obteniendo puntuaciones cercanas a la media.**"
      ]
    },
    {
      "cell_type": "code",
      "execution_count": null,
      "metadata": {
        "colab": {
          "base_uri": "https://localhost:8080/"
        },
        "id": "SXqKiIhA7hAu",
        "outputId": "c7dd532e-5a91-4bda-ded9-372406770e86"
      },
      "outputs": [
        {
          "name": "stdout",
          "output_type": "stream",
          "text": [
            "Probabilidad de que un estudiante obtenga una puntuación entre 65 y 85: 0.7036\n"
          ]
        }
      ],
      "source": [
        "import scipy.stats as stats\n",
        "#Datos del examen\n",
        "mu = 70  #Media\n",
        "sigma = 8  #Desviación estándar\n",
        "\n",
        "# a)\n",
        "p_65 = stats.norm.cdf(85, mu, sigma)\n",
        "p_85 = stats.norm.cdf(65, mu, sigma)\n",
        "\n",
        "probabilidad = p_65 - p_85\n",
        "print(f\"Probabilidad de que un estudiante obtenga una puntuación entre 65 y 85: {probabilidad:.4f}\")"
      ]
    },
    {
      "cell_type": "code",
      "execution_count": null,
      "metadata": {
        "colab": {
          "base_uri": "https://localhost:8080/"
        },
        "id": "SFVaZUraBVzm",
        "outputId": "69d4dada-f5ce-49e8-c891-599dcbfe86da"
      },
      "outputs": [
        {
          "name": "stdout",
          "output_type": "stream",
          "text": [
            "Puntuación mínima necesaria para estar en el 10% superior: 80.25\n"
          ]
        }
      ],
      "source": [
        "#b)\n",
        "percentil_90 = stats.norm.ppf(0.90, mu, sigma)\n",
        "print(f\"Puntuación mínima necesaria para estar en el 10% superior: {percentil_90:.2f}\")"
      ]
    },
    {
      "cell_type": "code",
      "execution_count": null,
      "metadata": {
        "colab": {
          "base_uri": "https://localhost:8080/"
        },
        "id": "fl0FPNSkEJGD",
        "outputId": "2bd60e8d-7237-41c2-890f-21ab52a60ad2"
      },
      "outputs": [
        {
          "name": "stdout",
          "output_type": "stream",
          "text": [
            "[76.75953791 73.29441396 77.19710095 55.77641846 65.82970982 83.97225984\n",
            " 63.15078306 73.4421407  76.08706406 83.30173992 69.60892339 56.76634687\n",
            " 81.4986531  74.61059295 47.25609417 69.78752702 78.44489633 72.35462116\n",
            " 77.20874711 61.83807294 75.49574265 64.89174641 83.08349064 71.83702528\n",
            " 54.59585313 68.67325602 59.10133913 74.03309246 63.93837227 69.81464987\n",
            " 67.63629479 68.54429833 71.6708152  60.15417842 78.48697264 61.15708109\n",
            " 71.26308227 67.5500677  64.06484409 65.10187333 76.87221685 69.34910569\n",
            " 62.26575602 62.64526108 66.0761808  63.27019071 62.10700268 74.46251403\n",
            " 69.25032132 68.70691859 77.43060576 68.91990342 67.05904603 75.2397888\n",
            " 74.20335987 72.36457213 69.85521323 57.84103166 67.20505116 71.13195832\n",
            " 72.60032312 65.31046075 70.49638801 73.40743235 70.44227629 69.7343536\n",
            " 79.51134219 57.12830383 85.31853867 63.66718391 83.19005732 74.16817009\n",
            " 65.53151152 71.38970284 74.67394724 72.34944256 88.77861112 68.13353059\n",
            " 73.24857378 74.9250482  72.61810565 59.99235988 70.36500407 60.38150465\n",
            " 60.98366349 69.64254675 54.85891129 53.62044363 79.03348036 63.15155921\n",
            " 70.0001222  82.43653697 77.86489213 69.61266844 70.16724518 76.81943498\n",
            " 79.53063022 90.70582565 73.15865204 61.36849694 80.76411402 60.45658827\n",
            " 63.35948798 58.82106556 73.31847723 77.02379914 81.8585744  62.74233614\n",
            " 68.44947949 72.7509781  58.8796299  71.04132744 58.69787479 65.52026842\n",
            " 72.02624482 69.23522601 65.1829182  65.63577321 70.47261697 91.65099677\n",
            " 63.98224362 56.31055151 68.66844899 80.72945172 72.35637038 62.03970962\n",
            " 72.85700667 75.33843805 84.61933667 64.50251886 61.10895312 83.31577557\n",
            " 83.65211829 69.8978358  86.45601673 67.30449567 72.88703258 77.09163928\n",
            " 75.2742036  73.48701974 62.49963375 72.25167215 65.41116099 76.92957486\n",
            " 75.41934989 66.5945741  66.0613109  78.3184642  63.73887659 81.91003675\n",
            " 59.87964369 63.31099395 51.91785659 82.97113751 68.20993847 61.59523429\n",
            " 74.5958171  72.8829642  69.96633162 65.43933252 78.20456041 60.00404621\n",
            " 68.57808905 73.34817539 61.69067259 65.68006538 62.72662789 53.6676567\n",
            " 58.76571797 71.82864125 75.65147878 71.19021571 80.76338266 76.34856355\n",
            " 75.65071927 69.24002727 63.19637321 72.94029146 59.53974119 80.57017155\n",
            " 61.31651432 75.74427752 71.8665912  67.89860259 86.74120131 66.93125166\n",
            " 63.4682769  65.42413245 76.55653944 82.65801106 61.76035952 73.16397658\n",
            " 73.96004279 68.43789202 80.40321471 71.5383384  76.05096711 80.92392829\n",
            " 59.05523506 58.78484483 67.39917842 63.16806194 76.93695127 77.55640782\n",
            " 75.09870768 70.45035872 85.45488941 64.17007094 66.10895078 72.30935476\n",
            " 45.55049739 70.40244206 64.34865419 61.20585955 61.74520964 77.19597926\n",
            " 81.48496321 76.51790391 85.77741231 73.85116479 75.34081689 82.79354368\n",
            " 60.74592505 71.40450147 70.88657003 62.04529942 55.35126995 81.02124862\n",
            " 79.88120936 54.26128436 67.79628875 83.1003793  76.03832254 70.78787673\n",
            " 68.08169336 59.28706557 80.19869433 71.32417951 66.66656762 70.77004323\n",
            " 72.16536259 60.96965845 54.37046289 79.1378508  81.43524768 68.86093084\n",
            " 75.22596743 75.02264944 73.58228758 53.78510879 72.35696268 51.69259586\n",
            " 70.8135442  68.66089028 81.50779086 82.22906979 74.29117425 73.54903158\n",
            " 74.57736647 66.98683926 77.93387135 74.24817934 68.15308152 70.89891877\n",
            " 60.84264006 74.5779278  86.24647261 80.90129835 52.66619943 64.24844152\n",
            " 88.87598305 77.91750868 69.29103574 60.24770281 65.08441797 69.83876459\n",
            " 73.93144033 67.66482283 71.75744957 75.44190518 57.41666518 69.5555115\n",
            " 59.97164005 67.40713842 66.61105757 60.61624422 80.98763251 66.57348927\n",
            " 68.64791898 73.48201588 57.682604   65.79055327 62.76838927 67.14088902\n",
            " 57.35305812 74.24929733 77.59976524 77.51482476 64.04662162 74.01309752\n",
            " 84.03304668 72.64329996 62.7816931  67.90679616 64.92586468 75.38169029\n",
            " 67.43003105 83.99612431 75.81700471 69.63339461 74.63845576 65.84102885\n",
            " 69.01829161 73.8136505  66.85501635 66.21515332 73.51531218 61.28898022\n",
            " 71.3311645  68.95709386 79.28803419 74.52678322 71.81753636 65.72344574\n",
            " 82.43154974 76.00098787 81.26035042 69.66452372 64.31350108 58.42670002\n",
            " 64.87331424 61.86674203 56.61903552 69.27480922 70.20355156 64.57168151\n",
            " 83.76737644 55.14246302 77.0792748  78.10208619 64.53945747 68.7064966\n",
            " 66.79979801 71.29762004 64.56323498 78.70053593 59.44597475 67.38120448\n",
            " 72.26891494 64.25281233 82.06024349 73.29613824 73.05873692 90.1751454\n",
            " 64.83049759 66.07260716 70.60955716 78.68930573 74.70116757 58.64405024\n",
            " 60.89332356 73.6672645  79.02702546 84.15816867 67.87940662 63.21422279\n",
            " 61.74414255 67.46504317 67.53188268 63.03355126 60.9416757  71.79860724\n",
            " 79.95696495 81.29086544 69.06198461 62.57633531 77.52559218 54.50174341\n",
            " 60.29352609 76.64374428 69.00043952 73.41544108 57.49583937 53.31590892\n",
            " 83.83095015 73.48819433 59.31361647 74.01736946 54.86986432 75.06333937\n",
            " 76.64330747 67.5794311  55.95144703 74.46500211 67.61670377 62.56035608\n",
            " 48.51855729 67.49954631 74.07591522 71.34775951 64.55133563 72.56258499\n",
            " 70.54820689 64.94103055 66.39622536 67.81951583 57.99243492 73.75548455\n",
            " 68.81654894 68.14863705 66.63050663 63.35805328 71.8500123  83.88238255\n",
            " 65.58902586 70.45302046 72.33140816 76.0840996  80.12057983 63.56332027\n",
            " 75.71767793 82.01030869 87.27267174 77.56169549 82.85489603 82.8962549\n",
            " 63.92207308 69.21407975 73.58058771 62.29294942 80.66646429 70.68602079\n",
            " 65.71086589 54.83284053 59.99806644 72.51243004 66.00983027 82.23117827\n",
            " 71.52690003 70.47177959 73.95423182 61.28537174 60.46385697 66.34312883\n",
            " 62.0052778  66.99726915 61.09280725 67.21305056 72.37279236 60.49005789\n",
            " 75.23745256 62.5681468  72.18325419 66.83702808 70.18688739 70.9573354\n",
            " 70.75081903 69.63120231 67.20245015 65.30349856 62.26327973 76.26668883\n",
            " 66.98660311 64.88853357 72.66979671 88.08061676 75.64984479 87.30762771\n",
            " 77.72495376 56.00993593 61.7644368  74.01132657 68.04310362 58.77481322\n",
            " 74.82960621 69.92356997 61.27204336 78.67470983 58.13448253 71.81545126\n",
            " 65.09038602 57.22209707 60.08328964 97.87621662 74.1264024  59.8149336\n",
            " 72.71760979 67.66439221 69.27805037 66.21214123 66.05595186 59.09491863\n",
            " 59.07963729 66.67890745 71.65772629 58.96484706 63.78534927 77.85359825\n",
            " 69.43262872 72.6005121 ]\n"
          ]
        }
      ],
      "source": [
        "#c)\n",
        "n = 500\n",
        "muestra = np.random.normal(mu, sigma, n)\n",
        "print(muestra)"
      ]
    },
    {
      "cell_type": "code",
      "execution_count": null,
      "metadata": {
        "colab": {
          "base_uri": "https://localhost:8080/",
          "height": 564
        },
        "id": "sYNf2-dBEgje",
        "outputId": "953e7a42-f13f-4835-964e-5194c0aab9ce"
      },
      "outputs": [
        {
          "data": {
            "image/png": "[encoded data removed]",
            "text/plain": [
              "<Figure size 800x600 with 1 Axes>"
            ]
          },
          "metadata": {},
          "output_type": "display_data"
        }
      ],
      "source": [
        "#Graficar\n",
        "plt.figure(figsize=(8, 6))\n",
        "plt.hist(muestra, bins=20, edgecolor='black', alpha=0.7)\n",
        "plt.title('Distribución de Puntuaciones de Examen (500 muestras)')\n",
        "plt.xlabel('Puntuación')\n",
        "plt.ylabel('Frecuencia')\n",
        "plt.grid(True)\n",
        "plt.show()"
      ]
    },
    {
      "cell_type": "markdown",
      "metadata": {
        "id": "6QWj0i2dFNBD"
      },
      "source": [
        "Ejercicio 3: Defectos en un Proceso de Manufactura\n",
        "\n",
        "En una línea de producción, el número de defectos por metro de tela sigue una distribución de Poisson con una media de 2 defectos por metro.\n",
        "\n",
        "a) ¿Cuál es la probabilidad de encontrar exactamente 3 defectos en un metro de tela? **La probabilidad es de 18,04%**\n",
        "\n",
        "b) ¿Cuál es la probabilidad de que haya al menos un defecto en un metro de tela? **La probabilidad es de 86,47%**\n",
        "\n",
        "c) Simula en Python el número de defectos en 1000 metros de tela y representa el histograma correspondiente."
      ]
    },
    {
      "cell_type": "code",
      "execution_count": null,
      "metadata": {
        "colab": {
          "base_uri": "https://localhost:8080/"
        },
        "id": "dcGtRbD_EuMH",
        "outputId": "7f79b16c-3f19-4a58-990f-4b6563c37abb"
      },
      "outputs": [
        {
          "name": "stdout",
          "output_type": "stream",
          "text": [
            "Probabilidad de exactamente 3 defectos: 0.1804\n"
          ]
        }
      ],
      "source": [
        "from scipy.stats import poisson\n",
        "media_defectos = 2\n",
        "\n",
        "#a)\n",
        "prob3defectos = poisson.pmf(3, media_defectos)\n",
        "print(f\"Probabilidad de exactamente 3 defectos: {prob3defectos:.4f}\")"
      ]
    },
    {
      "cell_type": "code",
      "execution_count": null,
      "metadata": {
        "colab": {
          "base_uri": "https://localhost:8080/"
        },
        "id": "jODe6d4vIVhp",
        "outputId": "a8fb9db3-49d2-4971-dd18-e61c399b190a"
      },
      "outputs": [
        {
          "name": "stdout",
          "output_type": "stream",
          "text": [
            "Probabilidad de al menos 1 defecto: 0.8647\n"
          ]
        }
      ],
      "source": [
        "#b)\n",
        "prob_0_defectos = poisson.pmf(0, media_defectos)\n",
        "prob_1mas_defecto = 1 - prob_0_defectos\n",
        "print(f\"Probabilidad de al menos 1 defecto: {prob_1mas_defecto:.4f}\")"
      ]
    },
    {
      "cell_type": "code",
      "execution_count": null,
      "metadata": {
        "colab": {
          "base_uri": "https://localhost:8080/",
          "height": 472
        },
        "id": "nvq8AmpwJWAB",
        "outputId": "e929c706-82a2-4ad3-ad68-77e75ff992a7"
      },
      "outputs": [
        {
          "data": {
            "image/png": "[encoded data removed]",
            "text/plain": [
              "<Figure size 640x480 with 1 Axes>"
            ]
          },
          "metadata": {},
          "output_type": "display_data"
        }
      ],
      "source": [
        "#c)\n",
        "simulacion = np.random.poisson(media_defectos, 1000)\n",
        "\n",
        "#Gráfica\n",
        "plt.hist(simulacion, bins=np.arange(0, max(simulacion)+1) - 0.5, edgecolor='black')\n",
        "plt.title(\"Distribución de defectos en 1000 metros de tela\")\n",
        "plt.xlabel(\"Número de defectos por metro\")\n",
        "plt.ylabel(\"Frecuencia\")\n",
        "plt.xticks(range(0, max(simulacion)+1))\n",
        "plt.show()"
      ]
    },
    {
      "cell_type": "markdown",
      "metadata": {
        "id": "MCdVPgEpKAVX"
      },
      "source": [
        "Ejercicio 4: Vida Útil de una Batería\n",
        "\n",
        "La vida útil (en horas) de una batería sigue una distribución gamma con forma\n",
        "k=3 y escala\n",
        "θ=500 horas.\n",
        "\n",
        "a) ¿Cuál es la probabilidad de que una batería dure más de 1500 horas? **La probabilidad es de 42,43%**\n",
        "\n",
        "b) Calcula y representa en Python la función de densidad de probabilidad (PDF) de la distribución. **Al comienzo es improbable que la batería falle. Alcanza el pico cercano a los 1500 explicando que es más probable que falle. Luego disminuye ya que es menos probable que una batería dure más de las 1500 horas.**"
      ]
    },
    {
      "cell_type": "code",
      "execution_count": null,
      "metadata": {
        "colab": {
          "base_uri": "https://localhost:8080/"
        },
        "id": "Tv5r-A6eKsDO",
        "outputId": "dfc5a85d-a8f9-4864-82e0-2b2f9e464f1f"
      },
      "outputs": [
        {
          "name": "stdout",
          "output_type": "stream",
          "text": [
            "Probabilidad de que la batería dure más de 1500 horas: 0.4232\n"
          ]
        }
      ],
      "source": [
        "from scipy.stats import gamma\n",
        "k = 3\n",
        "theta = 500\n",
        "\n",
        "#a)\n",
        "x = 1500\n",
        "cdf_1500 = gamma.cdf(x, k, scale=theta)\n",
        "prob_mas_de_1500 = 1 - cdf_1500\n",
        "print(f\"Probabilidad de que la batería dure más de 1500 horas: {prob_mas_de_1500:.4f}\")"
      ]
    },
    {
      "cell_type": "code",
      "execution_count": null,
      "metadata": {
        "colab": {
          "base_uri": "https://localhost:8080/",
          "height": 472
        },
        "id": "PEIbuBH6K5M8",
        "outputId": "fe647c74-da49-47d8-8f15-4702ea73e267"
      },
      "outputs": [
        {
          "data": {
            "image/png": "[encoded data removed]",
            "text/plain": [
              "<Figure size 640x480 with 1 Axes>"
            ]
          },
          "metadata": {},
          "output_type": "display_data"
        }
      ],
      "source": [
        "#b)\n",
        "x_vals = np.linspace(0, 4000, 1000) #Arreglo para los posibles tiempos de la batería\n",
        "pdf_vals = gamma.pdf(x_vals, k, scale=theta)\n",
        "\n",
        "#Gráfica\n",
        "plt.plot(x_vals, pdf_vals, label=f'Gamma PDF (k={k}, θ={theta})', color='blue')\n",
        "plt.title(\"Función de Densidad de Probabilidad (PDF) de la Distribución Gamma\")\n",
        "plt.xlabel(\"Horas de vida\")\n",
        "plt.ylabel(\"Densidad de probabilidad\")\n",
        "plt.grid(True)\n",
        "plt.legend()\n",
        "plt.show()"
      ]
    },
    {
      "cell_type": "markdown",
      "metadata": {
        "id": "QdotULUNMw5X"
      },
      "source": [
        "Ejercicio 5: Lluvias en una Región\n",
        "\n",
        "El número de días de lluvia en un mes en una región sigue una distribución binomial con\n",
        "n=30 días y una probabilidad diaria de lluvia de\n",
        "p=0.2.\n",
        "\n",
        "a) ¿Cuál es la probabilidad de que llueva exactamente 8 días en un mes? **La probabilidad es de 11,06%.**\n",
        "\n",
        "b) Simula en Python el número de días de lluvia durante un año (12 meses) y representa la distribución de frecuencias. **La gráfica muestra cómo se distribuyen los días de lluvia a lo largo de varios meses, lo que es útil para entender el comportamiento esperado y las fluctuaciones en un año.**"
      ]
    },
    {
      "cell_type": "code",
      "execution_count": null,
      "metadata": {
        "colab": {
          "base_uri": "https://localhost:8080/"
        },
        "id": "VovWlvVTNYXQ",
        "outputId": "69ecf512-f180-46c0-c958-585ceca0e6f9"
      },
      "outputs": [
        {
          "name": "stdout",
          "output_type": "stream",
          "text": [
            "Probabilidad de que llueva exactamente 8 días en un mes: 0.1106\n"
          ]
        }
      ],
      "source": [
        "from scipy.stats import binom\n",
        "n = 30\n",
        "p = 0.2\n",
        "\n",
        "#a)\n",
        "k = 8\n",
        "prob_8lluvia = binom.pmf(k, n, p)\n",
        "print(f\"Probabilidad de que llueva exactamente 8 días en un mes: {prob_8lluvia:.4f}\")"
      ]
    },
    {
      "cell_type": "code",
      "execution_count": null,
      "metadata": {
        "colab": {
          "base_uri": "https://localhost:8080/",
          "height": 472
        },
        "id": "kJ0gsiBMN35w",
        "outputId": "2fb48e38-8267-4949-c69f-d808b6658269"
      },
      "outputs": [
        {
          "data": {
            "image/png": "[encoded data removed]",
            "text/plain": [
              "<Figure size 640x480 with 1 Axes>"
            ]
          },
          "metadata": {},
          "output_type": "display_data"
        }
      ],
      "source": [
        "#b)\n",
        "meses = 12\n",
        "simulacion = np.random.binomial(n, p, meses)\n",
        "\n",
        "#Gráfica\n",
        "plt.hist(simulacion, bins=np.arange(min(simulacion)-0.5, max(simulacion)+1.5), edgecolor='black')\n",
        "plt.title(\"Distribución de días de lluvia en un año (12 meses)\")\n",
        "plt.xlabel(\"Número de días de lluvia por mes\")\n",
        "plt.ylabel(\"Frecuencia\")\n",
        "plt.xticks(range(min(simulacion), max(simulacion)+1))\n",
        "plt.grid(True)\n",
        "plt.show()"
      ]
    },
    {
      "cell_type": "markdown",
      "metadata": {
        "id": "XRuYuSGaP3oZ"
      },
      "source": [
        "Ejercicio 6: Control de Calidad en una Fábrica de Bombillas\n",
        "\n",
        "Una fábrica produce bombillas que, según especificaciones, tienen una vida útil que sigue una distribución normal con una media de 800 horas y una desviación estándar de 50 horas. Un ingeniero sospecha que una nueva máquina está produciendo bombillas con una vida útil diferente. Para comprobarlo, toma una muestra aleatoria de 36 bombillas producidas por la nueva máquina y encuentra que la vida útil media es de 785 horas.\n",
        "\n",
        "a) Plantee las hipótesis nula y alternativa para probar si la nueva máquina está produciendo bombillas con una vida útil diferente a la especificada.\n",
        "\n",
        "b) Utilice un nivel de significancia del 5% para realizar la prueba de hipótesis.\n",
        "\n",
        "c) Calcule el valor p de la prueba.\n",
        "\n",
        "d) ¿Cuál es su conclusión respecto a la nueva máquina? **No rechazamos la hipótesis nula, lo que significa que no hay evidencia suficiente para concluir que la vida útil es diferente de 800 horas.**"
      ]
    },
    {
      "cell_type": "code",
      "execution_count": null,
      "metadata": {
        "id": "2IjZzokOOE7V"
      },
      "outputs": [],
      "source": [
        "from scipy import stats"
      ]
    },
    {
      "cell_type": "code",
      "execution_count": null,
      "metadata": {
        "colab": {
          "base_uri": "https://localhost:8080/"
        },
        "id": "MMDENm2uQIKX",
        "outputId": "29184105-ac5c-499b-f79d-10323ffb4660"
      },
      "outputs": [
        {
          "name": "stdout",
          "output_type": "stream",
          "text": [
            "Valor p: 0.0719\n"
          ]
        }
      ],
      "source": [
        "mu_0 = 800\n",
        "sigma = 50\n",
        "n = 36\n",
        "mu_muestra = 785\n",
        "\n",
        "#a)\n",
        "H0 = 800\n",
        "H0 != 800\n",
        "\n",
        "#b)\n",
        "alpha = 0.05\n",
        "\n",
        "valor_p = 2 * (1 - stats.norm.cdf(abs(t_stat)))  #Prueba bilateral, por eso se multiplica por 2\n",
        "\n",
        "#c)Valor p\n",
        "print(f\"Valor p: {valor_p:.4f}\")"
      ]
    },
    {
      "cell_type": "markdown",
      "metadata": {
        "id": "tYLvOtf0Sfgo"
      },
      "source": [
        "Ejercicio 7: Efectividad de un Nuevo Medicamento\n",
        "\n",
        "Un laboratorio farmacéutico ha desarrollado un nuevo medicamento para reducir la presión arterial. Se sabe que la presión arterial sistólica de la población sigue una distribución normal con una media de 120 mmHg y una desviación estándar de 15 mmHg. Se administra el nuevo medicamento a una muestra de 25 pacientes, y se observa que la presión arterial media es de 112 mmHg.\n",
        "\n",
        "a) Plantee las hipótesis nula y alternativa para determinar si el medicamento reduce significativamente la presión arterial.\n",
        "\n",
        "b) Realice la prueba de hipótesis utilizando un nivel de significancia del 1%.\n",
        "\n",
        "c) Calcule el valor p de la prueba.\n",
        "\n",
        "d) Interprete los resultados y determine si el medicamento es efectivo. **Valor_p es menor que 0,01, se rechaza H0, el medicamento reduce significativamente la presión arterial.**"
      ]
    },
    {
      "cell_type": "code",
      "execution_count": null,
      "metadata": {
        "colab": {
          "base_uri": "https://localhost:8080/"
        },
        "id": "CrnqSMuESkCs",
        "outputId": "8577fe57-01a1-40a5-92df-778692f2aba2"
      },
      "outputs": [
        {
          "name": "stdout",
          "output_type": "stream",
          "text": [
            "Valor p: 0.0038\n"
          ]
        }
      ],
      "source": [
        "mu_ = 120\n",
        "sigma = 15\n",
        "n = 25\n",
        "mu_muestra = 112\n",
        "\n",
        "#H0 = La media de la presión arterial es igual a 120 mmHg (el medicamento no tiene efecto significativo).\n",
        "#H1 = La media de la presión arterial es menor que 120 mmHg (el medicamento reduce significativamente la presión arterial).\n",
        "\n",
        "alpha = 0.01\n",
        "\n",
        "valor_p = stats.norm.cdf(t_stat)\n",
        "\n",
        "print(f\"Valor p: {valor_p:.4f}\")"
      ]
    },
    {
      "cell_type": "markdown",
      "metadata": {
        "id": "-_s2vyQzrYAB"
      },
      "source": []
    },
    {
      "cell_type": "markdown",
      "metadata": {
        "id": "wPykxij6rYAB"
      },
      "source": [
        "Ejercicio 8: Tasas de Llegadas en un Centro de Llamadas\n",
        "\n",
        "El número de llamadas que recibe un centro de atención al cliente sigue una distribución de Poisson con una media de 5 llamadas por minuto. El gerente implementa un nuevo sistema y desea saber si ha afectado la tasa de llamadas. Durante un periodo de 30 minutos, registra un total de 180 llamadas.\n",
        "\n",
        "a) Plantee las hipótesis para probar si el nuevo sistema ha cambiado la tasa de llamadas.\n",
        "\n",
        "b) Realice una prueba de hipótesis al nivel de significancia del 5%.\n",
        "\n",
        "c) Determine si hay evidencia suficiente para concluir que la tasa de llamadas ha cambiado."
      ]
    },
    {
      "cell_type": "markdown",
      "metadata": {
        "id": "QmHbONZ2rYAB"
      },
      "source": [
        "Respuestas\n",
        "\n",
        "a) Hipótesis nula:\n",
        "𝐻0: 𝜆=5\n",
        "\n",
        "Hipótesis alternativa:\n",
        "𝐻A: 𝜆≠5\n"
      ]
    },
    {
      "cell_type": "code",
      "execution_count": 2,
      "metadata": {
        "colab": {
          "base_uri": "https://localhost:8080/"
        },
        "id": "SXMItz3BrYAB",
        "outputId": "9d51f360-6347-4928-c895-a5c420b18b0a"
      },
      "outputs": [
        {
          "output_type": "stream",
          "name": "stdout",
          "text": [
            "Se rechaza la hipótesis nula. Sí hay evidencia de que la tasa de llamadas ha cambiado.\n"
          ]
        }
      ],
      "source": [
        "#b)\n",
        "import scipy.stats as stats\n",
        "import numpy as np\n",
        "\n",
        "# Datos del problema\n",
        "m_calls = 5  # Tasa de llamadas por minuto\n",
        "T = 30  # Duración del periodo en minutos\n",
        "observed_calls = 180  # Llamadas observadas\n",
        "\n",
        "expected_calls = m_calls * T\n",
        "std_dev = np.sqrt(expected_calls)\n",
        "\n",
        "# Calcular el valor Z\n",
        "Z = (observed_calls - expected_calls) / std_dev\n",
        "\n",
        "# Nivel de significancia\n",
        "alpha = 0.05\n",
        "\n",
        "# p-valor para una prueba dos colas\n",
        "p_value = 2 * (1 - stats.norm.cdf(abs(Z)))\n",
        "\n",
        "# Resultado de la prueba\n",
        "if p_value < alpha:\n",
        "    conclusion = \"Se rechaza la hipótesis nula. Sí hay evidencia de que la tasa de llamadas ha cambiado.\"\n",
        "else:\n",
        "    conclusion = \"No se rechaza la hipótesis nula. No hay suficiente evidencia para concluir que la tasa ha cambiado.\"\n",
        "\n",
        "print(conclusion)"
      ]
    },
    {
      "cell_type": "markdown",
      "source": [
        "Ejercicio 9: Preferencia de Marca\n",
        "\n",
        "Una empresa desea saber si la proporción de clientes que prefieren su marca ha aumentado después de una campaña publicitaria. Antes de la campaña, el 40% de los clientes prefería su marca. Después de la campaña, en una muestra de 200 clientes, 100 indican preferir su marca.\n",
        "\n",
        "a) Establezca las hipótesis nula y alternativa.\n",
        "\n",
        "b) Realice una prueba de hipótesis al nivel de significancia del 5%.\n",
        "\n",
        "c) Calcule el valor p y concluya si la campaña fue efectiva en aumentar la preferencia de marca."
      ],
      "metadata": {
        "id": "TdB8YLOstVA2"
      }
    },
    {
      "cell_type": "markdown",
      "source": [
        "a)\n",
        "Hipótesis nula: 𝐻0: p=0.4\n",
        "\n",
        "Hipótesis alternativa: 𝐻A: p>0.4"
      ],
      "metadata": {
        "id": "mE2MYXBVuRas"
      }
    },
    {
      "cell_type": "code",
      "source": [
        "#b)\n",
        "\n",
        "p0 = 0.40  # Proporción antes de la campaña\n",
        "n = 200  # Tamaño de la muestra\n",
        "observed_successes = 100  # Clientes que prefieren la marca después de la campaña\n",
        "phat = observed_successes / n  # Proporción observada después de la campaña\n",
        "\n",
        "# Calcular el valor Z\n",
        "Z = (phat - p0) / np.sqrt((p0 * (1 - p0)) / n)\n",
        "\n",
        "# Nivel de significancia\n",
        "alpha = 0.05\n",
        "\n",
        "# p-valor para una prueba una cola\n",
        "p_value = 1 - stats.norm.cdf(Z)\n",
        "\n",
        "# Resultado de la prueba\n",
        "if p_value < alpha:\n",
        "    conclusion = \"Se rechaza la hipótesis nula. Hay evidencia de que la campaña fue efectiva.\"\n",
        "else:\n",
        "    conclusion = \"No se puede rechazar la hipótesis nula. No hay suficiente evidencia para concluir que la campaña fue efectiva.\"\n",
        "\n",
        "\n",
        "print(f\"Proporción observada: {phat*100:.2f}%\")\n",
        "print(conclusion)"
      ],
      "metadata": {
        "colab": {
          "base_uri": "https://localhost:8080/"
        },
        "id": "Ch45HRD_uOs9",
        "outputId": "41cc285a-5956-45e7-ada2-43af2f3c840e"
      },
      "execution_count": 10,
      "outputs": [
        {
          "output_type": "stream",
          "name": "stdout",
          "text": [
            "Proporción observada: 50.00%\n",
            "Se rechaza la hipótesis nula. Hay evidencia de que la campaña fue efectiva.\n"
          ]
        }
      ]
    },
    {
      "cell_type": "markdown",
      "source": [
        "Ejercicio 10: Evaluación de un Programa Educativo\n",
        "\n",
        "\n",
        "Una escuela implementa un nuevo programa educativo y quiere evaluar su efectividad en las calificaciones de matemáticas. Históricamente, las calificaciones siguen una distribución normal con una media de 70 y una desviación estándar de 10. Después de implementar el programa, una muestra de 50 estudiantes tiene una calificación media de 73.\n",
        "\n",
        "a) Formule las hipótesis nula y alternativa para determinar si el programa ha mejorado las calificaciones.\n",
        "\n",
        "b) Utilice un nivel de significancia del 2% para realizar la prueba.\n",
        "\n",
        "c) ¿El programa educativo ha tenido un impacto significativo en las calificaciones?"
      ],
      "metadata": {
        "id": "OA5O6ik7vNq9"
      }
    },
    {
      "cell_type": "markdown",
      "source": [
        "a)  \n",
        "Hipótesis nula: 𝐻0: μ=70\n",
        "\n",
        "Hipótesis alternativa: 𝐻A: μ>70"
      ],
      "metadata": {
        "id": "2NvA2JNawLiL"
      }
    },
    {
      "cell_type": "code",
      "source": [
        "#b)\n",
        "#Datos\n",
        "mu = 70\n",
        "sigma = 10\n",
        "n = 50\n",
        "mu_muestra = 73\n",
        "\n",
        "# Calcular el valor Z\n",
        "Z = (mu_muestra - mu) / (sigma / np.sqrt(n))\n",
        "\n",
        "# Nivel de significancia\n",
        "alpha = 0.02\n",
        "\n",
        "# p-valor para una prueba una cola\n",
        "p_value = 1 - stats.norm.cdf(Z)\n",
        "\n",
        "# Resultado de la prueba\n",
        "if p_value < alpha:\n",
        "    conclusion = \"Se rechaza la hipótesis nula. El programa educativo ha tenido un impacto estadisticamente significativo en las calificaciones.\"\n",
        "else:\n",
        "    conclusion = \"No se puede rechazar la hipótesis nula. No hay suficiente evidencia para concluir que el programa ha mejorado las calificaciones.\"\n",
        "\n",
        "\n",
        "print(conclusion)"
      ],
      "metadata": {
        "colab": {
          "base_uri": "https://localhost:8080/"
        },
        "id": "wh7M4VcCwyF2",
        "outputId": "769648b1-3af6-4c9d-eb4d-ff3fb8be7e40"
      },
      "execution_count": 12,
      "outputs": [
        {
          "output_type": "stream",
          "name": "stdout",
          "text": [
            "Se rechaza la hipótesis nula. El programa educativo ha tenido un impacto estadisticamente significativo en las calificaciones.\n"
          ]
        }
      ]
    },
    {
      "cell_type": "markdown",
      "source": [
        "\n",
        "Ejercicio 11: Efectividad de dos métodos de enseñanza\n",
        "\n",
        "Un investigador educativo quiere comparar la efectividad de dos métodos de enseñanza diferentes en el rendimiento de los estudiantes. Se seleccionan aleatoriamente 30 estudiantes y se dividen en dos grupos de 15 estudiantes cada uno. El primer grupo es enseñado con el método tradicional y el segundo grupo con el nuevo método. Después de un mes, se les aplica un examen estandarizado.\n",
        "\n",
        "Grupo 1 (Método Tradicional): Media = 75, Desviación estándar = 8\n",
        "Grupo 2 (Nuevo Método): Media = 80, Desviación estándar = 6\n",
        "\n",
        "a) Formule las hipótesis nula y alternativa para determinar si hay una diferencia significativa en las medias de los dos grupos.\n",
        "\n",
        "b) Utilice una prueba t para muestras independientes con un nivel de significancia del 5% para analizar los datos.\n",
        "\n",
        "c) Interprete los resultados y concluya si el nuevo método es más efectivo.\n",
        "\n"
      ],
      "metadata": {
        "id": "If-vEHyKzl52"
      }
    },
    {
      "cell_type": "markdown",
      "source": [
        "a)\n",
        "H0:μ1=μ2\n",
        "\n",
        "H1:μ2>μ1"
      ],
      "metadata": {
        "id": "Q8gDw2YEz9AO"
      }
    },
    {
      "cell_type": "code",
      "source": [
        "# Datos del problema\n",
        "x1, s1, n1 = 75, 8, 15  # Grupo 1: Media, desviación estándar y tamaño de muestra\n",
        "x2, s2, n2 = 80, 6, 15  # Grupo 2: Media, desviación estándar y tamaño de muestra\n",
        "\n",
        "# Calcular el valor t\n",
        "t_stat = (x2 - x1) / np.sqrt((s1**2 / n1) + (s2**2 / n2))\n",
        "\n",
        "# Calcular los grados de libertad aproximados (para varianzas diferentes)\n",
        "df = ((s1**2 / n1) + (s2**2 / n2))**2 / (((s1**2 / n1)**2 / (n1 - 1)) + ((s2**2 / n2)**2 / (n2 - 1)))\n",
        "\n",
        "# Nivel de significancia\n",
        "alpha = 0.05\n",
        "\n",
        "# Calcular el valor crítico t para una prueba cola superior\n",
        "t_crit = stats.t.ppf(1 - alpha, df)\n",
        "\n",
        "# Calcular el p-valor\n",
        "p_value = 1 - stats.t.cdf(t_stat, df)\n",
        "\n",
        "# Resultado de la prueba\n",
        "if t_stat > t_crit:\n",
        "    conclusion = \"Se rechaza la hipótesis nula. Hay evidencia de que el nuevo método es más efectivo.\"\n",
        "else:\n",
        "    conclusion = \"No se puede rechazar la hipótesis nula. No hay suficiente evidencia para concluir que el nuevo método es más efectivo.\"\n",
        "\n",
        "print(conclusion)"
      ],
      "metadata": {
        "colab": {
          "base_uri": "https://localhost:8080/"
        },
        "id": "do7TAb5R0n-D",
        "outputId": "7e0a9ed2-57dc-45dd-ec63-4231d3b55d89"
      },
      "execution_count": 14,
      "outputs": [
        {
          "output_type": "stream",
          "name": "stdout",
          "text": [
            "Se rechaza la hipótesis nula. Hay evidencia de que el nuevo método es más efectivo.\n"
          ]
        }
      ]
    },
    {
      "cell_type": "markdown",
      "source": [
        "Ejercicio 12: Efecto de un programa de ejercicio en la presión arterial\n",
        "\n",
        "Un médico quiere evaluar si un programa de ejercicio regular reduce la presión arterial sistólica en pacientes hipertensos. Se mide la presión arterial de 20 pacientes antes y después de participar en el programa durante 8 semanas.\n",
        "\n",
        "Presión arterial media antes: 150 mmHg\n",
        "Presión arterial media después: 140 mmHg\n",
        "Desviación estándar de las diferencias: 10 mmHg\n",
        "a) Establezca las hipótesis nula y alternativa para determinar si el programa reduce la presión arterial.\n",
        "\n",
        "b) Realice una prueba t para muestras relacionadas (pareadas) al nivel de significancia del 1%.\n",
        "\n",
        "c) ¿Es efectivo el programa de ejercicio para reducir la presión arterial?"
      ],
      "metadata": {
        "id": "cX6gYjIC06Ze"
      }
    },
    {
      "cell_type": "markdown",
      "source": [
        "a)\n",
        "\n",
        "H0:μd=0\n",
        "\n",
        "H1:μd<0"
      ],
      "metadata": {
        "id": "CM1cHDqs2IFx"
      }
    },
    {
      "cell_type": "code",
      "source": [
        "#Datos\n",
        "mean_before = 150  # Media antes del programa\n",
        "mean_after = 140  # Media después del programa\n",
        "mean_diff = mean_before - mean_after  # Diferencia media\n",
        "std_diff = 10  # Desviación estándar de las diferencias\n",
        "n = 20  # Tamaño de la muestra (pacientes)\n",
        "\n",
        "# Calcular el valor t\n",
        "t_stat = mean_diff / (std_diff / np.sqrt(n))\n",
        "\n",
        "# Nivel de significancia\n",
        "alpha = 0.01\n",
        "\n",
        "# Calcular el valor crítico t para una prueba unilateral (cola inferior)\n",
        "t_crit = stats.t.ppf(alpha, df=n-1)\n",
        "\n",
        "# Calcular el p-valor para una prueba cola inferior\n",
        "p_value = stats.t.cdf(t_stat, df=n-1)\n",
        "\n",
        "# Resultado de la prueba\n",
        "if t_stat < t_crit:\n",
        "    conclusion = \"Se rechaza la hipótesis nula. El programa de ejercicio ha sido efectivo para reducir la presión arterial.\"\n",
        "else:\n",
        "    conclusion = \"No se puede rechazar la hipótesis nula. No hay suficiente evidencia para concluir que el programa es efectivo.\"\n",
        "\n",
        "print(conclusion)"
      ],
      "metadata": {
        "colab": {
          "base_uri": "https://localhost:8080/"
        },
        "id": "OKDUrJrE2noV",
        "outputId": "290b07a0-6a90-48e9-88d0-c2d51c1a8f8f"
      },
      "execution_count": 15,
      "outputs": [
        {
          "output_type": "stream",
          "name": "stdout",
          "text": [
            "No se puede rechazar la hipótesis nula. No hay suficiente evidencia para concluir que el programa es efectivo.\n"
          ]
        }
      ]
    },
    {
      "cell_type": "markdown",
      "source": [
        "Ejercicio 13: Comparación de salarios entre dos departamentos\n",
        "\n",
        "En una empresa, se quiere saber si existe una diferencia en los salarios promedio entre el departamento de ventas y el departamento de marketing. Se toman muestras aleatorias de empleados de ambos departamentos.\n",
        "\n",
        "Ventas (n = 25): Media = $50,000, Desviación estándar = $5,000\n",
        "Marketing (n = 30): Media = $52,000, Desviación estándar = $6,000\n",
        "a) Plantee las hipótesis para probar si hay una diferencia significativa en los salarios medios de los dos departamentos.\n",
        "\n",
        "b) Realice una prueba t para muestras independientes con un nivel de significancia del 5%, asumiendo que las varianzas son iguales.\n",
        "\n",
        "c) Concluya si hay una diferencia significativa en los salarios entre los dos departamentos."
      ],
      "metadata": {
        "id": "qSXhg53C3hsk"
      }
    },
    {
      "cell_type": "markdown",
      "source": [
        "a)\n",
        "\n",
        "H0:μ1=μ2\n",
        "\n",
        "H1:μ2≠μ1\n",
        "\n"
      ],
      "metadata": {
        "id": "otlkDWOD4COs"
      }
    },
    {
      "cell_type": "code",
      "source": [
        "# Datos\n",
        "x1, s1, n1 = 50000, 5000, 25  # Ventas: Media, desviación estándar y tamaño de muestra\n",
        "x2, s2, n2 = 52000, 6000, 30  # Marketing: Media, desviación estándar y tamaño de muestra\n",
        "\n",
        "# Calcular la desviación estándar combinada (pooled standard deviation)\n",
        "S_p = np.sqrt(((n1 - 1) * s1**2 + (n2 - 1) * s2**2) / (n1 + n2 - 2))\n",
        "\n",
        "# Calcular el valor t\n",
        "t_stat = (x1 - x2) / (S_p * np.sqrt(1/n1 + 1/n2))\n",
        "\n",
        "# Calcular los grados de libertad\n",
        "df = n1 + n2 - 2\n",
        "\n",
        "# Nivel de significancia\n",
        "alpha = 0.05\n",
        "\n",
        "# Valor crítico t para una prueba bilateral (cola superior e inferior)\n",
        "t_crit = stats.t.ppf(1 - alpha/2, df)\n",
        "\n",
        "# Calcular el p-valor para una prueba bilateral\n",
        "p_value = 2 * (1 - stats.t.cdf(abs(t_stat), df))\n",
        "\n",
        "# Resultado de la prueba\n",
        "if abs(t_stat) > t_crit:\n",
        "    conclusion = \"Se rechaza la hipótesis nula. Hay una diferencia significativa en los salarios entre los dos departamentos.\"\n",
        "else:\n",
        "    conclusion = \"No se puede rechazar la hipótesis nula. No hay suficiente evidencia para concluir que existe una diferencia significativa en los salarios.\"\n",
        "\n",
        "print(conclusion)"
      ],
      "metadata": {
        "colab": {
          "base_uri": "https://localhost:8080/"
        },
        "id": "ZHyw7tGH5O5e",
        "outputId": "df1f479f-542d-48a4-c500-cc2380c22f7d"
      },
      "execution_count": 16,
      "outputs": [
        {
          "output_type": "stream",
          "name": "stdout",
          "text": [
            "No se puede rechazar la hipótesis nula. No hay suficiente evidencia para concluir que existe una diferencia significativa en los salarios.\n"
          ]
        }
      ]
    },
    {
      "cell_type": "markdown",
      "source": [
        "Ejercicio 14: Asociación entre Género y Preferencia de Producto (Prueba Chi-cuadrado)\n",
        "\n",
        "Una empresa desea saber si existe una asociación entre el género de los consumidores y su preferencia por tres tipos de productos: A, B y C. Se realiza una encuesta a 200 personas y se obtienen los siguientes resultados:\n",
        "\n",
        "Producto A\tProducto B\tProducto C\tTotal\n",
        "Hombres\t40\t30\t20\t90\n",
        "Mujeres\t20\t50\t40\t110\n",
        "Total\t60\t80\t60\t200\n",
        "\n",
        "a) Formule las hipótesis nula y alternativa para determinar si hay una asociación significativa entre el género y la preferencia de producto.\n",
        "\n",
        "b) Realice una prueba chi-cuadrado de independencia al nivel de significancia del 5%.\n",
        "\n",
        "c) Interprete los resultados y concluya si existe una asociación significativa entre el género y la preferencia de producto."
      ],
      "metadata": {
        "id": "Nac6vTUw5xnJ"
      }
    },
    {
      "cell_type": "markdown",
      "source": [
        "a)\n",
        "\n",
        "H0: No hay asociación entre género y preferencia de producto.\n",
        "\n",
        "HA: Hay asociación entre género y preferencia de producto."
      ],
      "metadata": {
        "id": "De9dBeU-6Y39"
      }
    },
    {
      "cell_type": "code",
      "source": [
        "# Datos observados (tabla de contingencia)\n",
        "observed = np.array([[40, 30, 20], [20, 50, 40]])\n",
        "\n",
        "# Realizar la prueba de chi-cuadrado\n",
        "chi2_stat, p_value, dof, expected = stats.chi2_contingency(observed)\n",
        "\n",
        "# Nivel de significancia\n",
        "alpha = 0.05\n",
        "\n",
        "# Resultado de la prueba\n",
        "if p_value < alpha:\n",
        "    conclusion = \"Se rechaza la hipótesis nula. Existe una asociación significativa entre el género y la preferencia de producto.\"\n",
        "else:\n",
        "    conclusion = \"No se puede rechazar la hipótesis nula. No hay suficiente evidencia para concluir que existe una asociación significativa.\"\n",
        "\n",
        "\n",
        "print(conclusion)"
      ],
      "metadata": {
        "colab": {
          "base_uri": "https://localhost:8080/"
        },
        "id": "BscArCEa6V6H",
        "outputId": "ce164feb-070a-446f-e7d6-17e8097eff34"
      },
      "execution_count": 17,
      "outputs": [
        {
          "output_type": "stream",
          "name": "stdout",
          "text": [
            "Se rechaza la hipótesis nula. Existe una asociación significativa entre el género y la preferencia de producto.\n"
          ]
        }
      ]
    },
    {
      "cell_type": "markdown",
      "metadata": {
        "id": "_DCTav6iUYCs"
      },
      "source": [
        "Ejercicio 15: Comparación de Varianzas entre Dos Procesos de Producción (Prueba F)\n",
        "\n",
        "Una fábrica tiene dos máquinas, Máquina 1 y Máquina 2, que producen el mismo componente. Se sospecha que hay diferencias en la consistencia (variabilidad) de las piezas producidas por cada máquina. Para evaluar esto, se toman muestras aleatorias de las dimensiones de las piezas producidas por cada máquina.\n",
        "\n",
        "Máquina 1: n = 20, Varianza muestral\n",
        "= 1.5 mm²\n",
        "Máquina 2: n = 25, Varianza muestral = 0.9 mm²\n",
        "a) Establezca las hipótesis nula y alternativa para determinar si las varianzas de los dos procesos son significativamente diferentes.\n",
        "\n",
        "b) Realice una prueba F al nivel de significancia del 5% para comparar las varianzas.\n",
        "\n",
        "c) Concluya si hay diferencias significativas en la variabilidad de las piezas producidas por las dos máquinas."
      ]
    },
    {
      "cell_type": "code",
      "execution_count": null,
      "metadata": {
        "id": "8T6jmR8DTP_n"
      },
      "outputs": [],
      "source": [
        "#Datos\n",
        "n1 = 20\n",
        "var_m1 = 1.5\n",
        "\n",
        "n2 = 25\n",
        "var_m2 = 0.9\n",
        "\n",
        "# a) Hipótesis:\n",
        "# H0: σ1^2 = σ2^2 varianzas iguales\n",
        "# H1: σ1^2 != σ2^2 varianzas diferentes"
      ]
    },
    {
      "cell_type": "code",
      "execution_count": null,
      "metadata": {
        "colab": {
          "base_uri": "https://localhost:8080/"
        },
        "id": "H2xAKlpUVmSY",
        "outputId": "15e68d8a-fe88-4b3e-9953-dcea66b5e8e8"
      },
      "outputs": [
        {
          "name": "stdout",
          "output_type": "stream",
          "text": [
            "Valor p: 0.2361\n",
            "No rechazamos H0. No hay suficiente evidencia para concluir que hay diferencias significativas en la variabilidad.\n"
          ]
        }
      ],
      "source": [
        "#Prueba F\n",
        "Alpha = 0.05\n",
        "F_stat = var_m1 / var_m2\n",
        "\n",
        "gl1 = n1 - 1\n",
        "gl2 = n2 - 1\n",
        "\n",
        "#Valor P\n",
        "valor_p = 2 * min(stats.f.cdf(F_stat, gl1, gl2), 1 - stats.f.cdf(F_stat, gl1, gl2))\n",
        "\n",
        "print(f\"Valor p: {valor_p:.4f}\")\n",
        "\n",
        "if valor_p < alpha:\n",
        "    print(\"Rechazamos H0. Hay diferencias significativas en la variabilidad de las piezas producidas por las dos máquinas.\")\n",
        "else:\n",
        "    print(\"No rechazamos H0. No hay suficiente evidencia para concluir que hay diferencias significativas en la variabilidad.\")"
      ]
    }
  ],
  "metadata": {
    "colab": {
      "provenance": []
    },
    "kernelspec": {
      "display_name": "base",
      "language": "python",
      "name": "python3"
    },
    "language_info": {
      "codemirror_mode": {
        "name": "ipython",
        "version": 3
      },
      "file_extension": ".py",
      "mimetype": "text/x-python",
      "name": "python",
      "nbconvert_exporter": "python",
      "pygments_lexer": "ipython3",
      "version": "3.11.4"
    }
  },
  "nbformat": 4,
  "nbformat_minor": 0
}